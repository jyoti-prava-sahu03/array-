{
 "cells": [
  {
   "cell_type": "code",
   "execution_count": 2,
   "id": "da8700b3",
   "metadata": {},
   "outputs": [
    {
     "name": "stdout",
     "output_type": "stream",
     "text": [
      "10\n",
      "20\n",
      "30\n",
      "78\n"
     ]
    }
   ],
   "source": [
    "#creating an array\n",
    "from array import*\n",
    "arr=array('i',[10,20,30,78])\n",
    "for i in arr:\n",
    "    print(i)"
   ]
  },
  {
   "cell_type": "code",
   "execution_count": 5,
   "id": "bd1e112e",
   "metadata": {},
   "outputs": [
    {
     "name": "stdout",
     "output_type": "stream",
     "text": [
      "enter size of array3\n",
      "enter integers10\n",
      "enter integers20\n",
      "enter integers30\n",
      "[10, 20, 30]\n",
      "10\n",
      "20\n",
      "30\n"
     ]
    }
   ],
   "source": [
    "#creating array taking user input\n",
    "#same as list\n",
    "a=[]\n",
    "n=int(input(\"enter size of array\"))\n",
    "for i in range(n):\n",
    "    l=int(input(\"enter integers\"))\n",
    "    a.append(l)\n",
    "print(a)\n",
    "for i in a:\n",
    "    print(i)\n",
    "    \n"
   ]
  },
  {
   "cell_type": "code",
   "execution_count": 15,
   "id": "e0f79816",
   "metadata": {},
   "outputs": [
    {
     "name": "stdout",
     "output_type": "stream",
     "text": [
      "array('i', [10, 20, 80, 30, 40, 50])\n",
      "array('i', [10, 20, 80, 45, 40, 50])\n",
      "4\n",
      "array('i', [10, 80, 45, 40, 50])\n"
     ]
    }
   ],
   "source": [
    "#operation on array\n",
    "from array import *\n",
    "a=array('i',[10,20,30,40,50])\n",
    "a.insert(2,80)   #insertion\n",
    "print(a)\n",
    "a[3]=45    #update\n",
    "print(a)\n",
    "print(a.index(40))   #gives the index of the searched element\n",
    "a.remove(20)\n",
    "print(a)\n"
   ]
  },
  {
   "cell_type": "code",
   "execution_count": 10,
   "id": "68fc1d37",
   "metadata": {},
   "outputs": [
    {
     "name": "stdout",
     "output_type": "stream",
     "text": [
      "[10, 50, 20, 30, 40]\n"
     ]
    }
   ],
   "source": [
    "#insertion in list is same as in array\n",
    "a=[10,20,30,40]\n",
    "a.insert(1,50)\n",
    "print(a)"
   ]
  },
  {
   "cell_type": "code",
   "execution_count": null,
   "id": "6e1abe5d",
   "metadata": {},
   "outputs": [],
   "source": []
  }
 ],
 "metadata": {
  "kernelspec": {
   "display_name": "Python 3 (ipykernel)",
   "language": "python",
   "name": "python3"
  },
  "language_info": {
   "codemirror_mode": {
    "name": "ipython",
    "version": 3
   },
   "file_extension": ".py",
   "mimetype": "text/x-python",
   "name": "python",
   "nbconvert_exporter": "python",
   "pygments_lexer": "ipython3",
   "version": "3.9.12"
  }
 },
 "nbformat": 4,
 "nbformat_minor": 5
}
